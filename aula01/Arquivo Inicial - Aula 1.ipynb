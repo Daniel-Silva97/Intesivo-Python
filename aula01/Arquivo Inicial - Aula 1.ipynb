{
 "cells": [
  {
   "cell_type": "markdown",
   "metadata": {},
   "source": [
    "# Automação de Sistemas e Processos com Python\n",
    "\n",
    "### Desafio:\n",
    "\n",
    "Todos os dias, o nosso sistema atualiza as vendas do dia anterior.\n",
    "O seu trabalho diário, como analista, é enviar um e-mail para a diretoria, assim que começar a trabalhar, com o faturamento e a quantidade de produtos vendidos no dia anterior\n",
    "\n",
    "E-mail da diretoria: seugmail+diretoria@gmail.com<br>\n",
    "Local onde o sistema disponibiliza as vendas do dia anterior: https://drive.google.com/drive/folders/149xknr9JvrlEnhNWO49zPcw0PW5icxga?usp=sharing\n",
    "\n",
    "Para resolver isso, vamos usar o pyautogui, uma biblioteca de automação de comandos do mouse e do teclado"
   ]
  },
  {
   "cell_type": "code",
   "execution_count": 2,
   "metadata": {},
   "outputs": [
    {
     "data": {
      "text/plain": [
       "'c:\\\\Users\\\\user\\\\Documents\\\\Cursos\\\\Intensivão Python\\\\Aula 1\\\\Vendas - Dez.xlsx'"
      ]
     },
     "execution_count": 2,
     "metadata": {},
     "output_type": "execute_result"
    }
   ],
   "source": [
    "import pyautogui\n",
    "import pyperclip\n",
    "import time\n",
    "import shutil\n",
    "\n",
    "\n",
    "pyautogui.PAUSE = 1\n",
    "\n",
    "# Passo 1: Acessar o sistema (Abrir navegador e acessar o link)\n",
    "pyautogui.press('win')\n",
    "pyautogui.write('chrome')\n",
    "pyautogui.press('enter')\n",
    "\n",
    "time.sleep(2)\n",
    "# pyautogui.hotkey('ctrl', 't')\n",
    "\n",
    "link = \"https://drive.google.com/drive/folders/149xknr9JvrlEnhNWO49zPcw0PW5icxga?usp=sharing\"\n",
    "pyperclip.copy(link)\n",
    "pyautogui.hotkey('ctrl', 'v')\n",
    "pyautogui.press('enter')\n",
    "\n",
    "\n",
    "#Passo 2: Navegar para a pasta Exportar\n",
    "time.sleep(10)\n",
    "pyautogui.click(x=366, y=270, clicks=2)\n",
    "\n",
    "time.sleep(3)\n",
    "#Passo 3: Fazer o Download\n",
    "pyautogui.click(x=433, y=372)\n",
    "pyautogui.click(x=1161, y=157)\n",
    "pyautogui.click(x=938, y=558)\n",
    "\n",
    "time.sleep(5)\n",
    "\n",
    "#Movendo o arquivo para pasta da Aula 01\n",
    "\n",
    "shutil.move(r\"c:\\Users\\user\\Downloads\\Vendas - Dez.xlsx\",\n",
    "            r\"c:\\Users\\user\\Documents\\Cursos\\Intensivão Python\\Aula 1\\Vendas - Dez.xlsx\")\n",
    "\n",
    "\n",
    "\n",
    "\n",
    "\n",
    "\n"
   ]
  },
  {
   "cell_type": "markdown",
   "metadata": {},
   "source": [
    "### Vamos agora ler o arquivo baixado para pegar os indicadores\n",
    "\n",
    "- Faturamento\n",
    "- Quantidade de Produtos"
   ]
  },
  {
   "cell_type": "code",
   "execution_count": 3,
   "metadata": {},
   "outputs": [],
   "source": [
    "import pandas as pd\n",
    "\n",
    "\n",
    "#Importar a tabela e somar os dados\n",
    "tabela = pd.read_excel('Vendas - Dez.xlsx')\n",
    "#display(tabela)\n",
    "\n",
    "faturamento = tabela['Valor Final'].sum() #Somando valor das Vendas\n",
    "qtd_produtos = tabela['Quantidade'].sum() #Somando da quantidade de produtos vendidos\n",
    "\n",
    "\n",
    "\n"
   ]
  },
  {
   "cell_type": "markdown",
   "metadata": {},
   "source": [
    "### Vamos agora enviar um e-mail pelo gmail"
   ]
  },
  {
   "cell_type": "code",
   "execution_count": 4,
   "metadata": {},
   "outputs": [],
   "source": [
    "# Passo 5: Entrar no email\n",
    "\n",
    "pyautogui.hotkey(\"ctrl\", \"t\")\n",
    "pyperclip.copy(\"https://mail.google.com/mail/u/0/#inbox\")\n",
    "pyautogui.hotkey(\"ctrl\", \"v\")\n",
    "pyautogui.press(\"enter\")\n",
    "time.sleep(10)\n",
    "\n",
    "\n",
    "#Enviar por e-mail o resultado\n",
    "pyautogui.click(x=139, y=174) #Clicando em novo email\n",
    "time.sleep(2)\n",
    "pyautogui.write(\"gtrepak0@gmail.com\") #Digitando email\n",
    "pyautogui.press('tab') #Selecionando o e-mail\n",
    "\n",
    "pyautogui.press('tab') #Pulando para o campo assunto\n",
    "pyautogui.write(\"Testes de Python\") #Digitando o campo assunto\n",
    "\n",
    "pyautogui.press('tab') #Pulando para o campo Texto\n",
    "\n",
    "\n",
    "#Criando uma variável com o corpo do email para poder escrever textos pulando linhas.\n",
    "texto = f\"\"\"\n",
    "Luska Souza, Boa tarde!\n",
    "\n",
    "O faturamento de ontem foi de: R$ {faturamento:,.2f}\n",
    "A quantidade de produtos foi de: {qtd_produtos:,}\n",
    "\n",
    "Abs\n",
    "Danielzin gameplay\"\"\"\n",
    "\n",
    "pyperclip.copy(texto) #Copiando a variável\n",
    "pyautogui.hotkey('ctrl', 'v') #Colando no corpo do e-mail\n",
    "\n",
    "pyautogui.hotkey('ctrl', 'enter') #Enviando o e-mail\n",
    "pyautogui.hotkey('ctrl', 'shift', 'w') #Fechando o chrome\n",
    "\n",
    "\n",
    "\n",
    "\n"
   ]
  },
  {
   "cell_type": "markdown",
   "metadata": {},
   "source": [
    "#### Use esse código para descobrir qual a posição de um item que queira clicar\n",
    "\n",
    "- Lembre-se: a posição na sua tela é diferente da posição na minha tela"
   ]
  },
  {
   "cell_type": "code",
   "execution_count": 5,
   "metadata": {},
   "outputs": [
    {
     "data": {
      "text/plain": [
       "Point(x=448, y=328)"
      ]
     },
     "execution_count": 5,
     "metadata": {},
     "output_type": "execute_result"
    }
   ],
   "source": [
    "time.sleep(5)\n",
    "pyautogui.position()"
   ]
  },
  {
   "cell_type": "code",
   "execution_count": 6,
   "metadata": {},
   "outputs": [
    {
     "ename": "SyntaxError",
     "evalue": "(unicode error) 'unicodeescape' codec can't decode bytes in position 9-10: truncated \\uXXXX escape (Temp/ipykernel_7212/2424650823.py, line 1)",
     "output_type": "error",
     "traceback": [
      "\u001b[1;36m  File \u001b[1;32m\"C:\\Users\\user\\AppData\\Local\\Temp/ipykernel_7212/2424650823.py\"\u001b[1;36m, line \u001b[1;32m1\u001b[0m\n\u001b[1;33m    path = os.chdir('C:\\\\Users\\user\\\\Documents\\\\Cursos\\\\Intensivão Python\\\\Aula 1')\u001b[0m\n\u001b[1;37m                                                                                  ^\u001b[0m\n\u001b[1;31mSyntaxError\u001b[0m\u001b[1;31m:\u001b[0m (unicode error) 'unicodeescape' codec can't decode bytes in position 9-10: truncated \\uXXXX escape\n"
     ]
    }
   ],
   "source": [
    "path = os.chdir('C:\\\\Users\\user\\\\Documents\\\\Cursos\\\\Intensivão Python\\\\Aula 1')\n",
    "print(path)"
   ]
  },
  {
   "cell_type": "code",
   "execution_count": null,
   "metadata": {},
   "outputs": [],
   "source": []
  }
 ],
 "metadata": {
  "kernelspec": {
   "display_name": "Python 3 (ipykernel)",
   "language": "python",
   "name": "python3"
  },
  "language_info": {
   "codemirror_mode": {
    "name": "ipython",
    "version": 3
   },
   "file_extension": ".py",
   "mimetype": "text/x-python",
   "name": "python",
   "nbconvert_exporter": "python",
   "pygments_lexer": "ipython3",
   "version": "3.9.7"
  }
 },
 "nbformat": 4,
 "nbformat_minor": 4
}
